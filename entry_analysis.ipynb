{
 "cells": [
  {
   "cell_type": "code",
   "execution_count": null,
   "metadata": {},
   "outputs": [],
   "source": [
    "##MURATCAN LALOĞLU\n",
    "##220404063\n",
    "##ödevin github sayfası: "
   ]
  },
  {
   "cell_type": "code",
   "execution_count": 2,
   "metadata": {},
   "outputs": [],
   "source": [
    "import os\n",
    "import pandas as pd\n",
    "from openai import OpenAI\n",
    "import random\n",
    "import numpy as np\n",
    "from dotenv import load_dotenv\n",
    "load_dotenv()\n",
    "\n",
    "client = OpenAI(\n",
    "    # This is the default and can be omitted\n",
    "    api_key=os.environ.get(\"OPENAI_API_KEY\"),\n",
    ")"
   ]
  },
  {
   "cell_type": "code",
   "execution_count": 3,
   "metadata": {},
   "outputs": [],
   "source": [
    "def get_completion(prompt: str, model=\"gpt-3.5-turbo\"):\n",
    "    \"\"\"\n",
    "    Verilen giriş metnine (prompt) göre cümleyi tamamlar.\n",
    "    Cümle tamamlama içn OpenAI GPT-3.5-turbo modelini kullanır.\n",
    "\n",
    "    Parametreler:\n",
    "    - prompt (str): Tamamlama üretmek için kullanılan giriş metni.\n",
    "    - model (str): Kullanılacak dil modelinin adı (varsayılan \"gpt-3.5-turbo\").\n",
    "\n",
    "    Dönüş:\n",
    "    str: Giriş metni temel alınarak üretilen tamamlama.\n",
    "    \"\"\"\n",
    "    messages = [{\"role\": \"user\", \"content\": prompt}]\n",
    "    response = client.chat.completions.create(\n",
    "        model=model,\n",
    "        messages=messages,\n",
    "        temperature=0,  # Modelin çıktısının rastgeleliğin derecesi\n",
    "    )\n",
    "    return response.choices[0].message.content\n",
    "\n",
    "\n",
    "def select_random_entries(data: list, num_entries: int = 5):\n",
    "    \"\"\"entry havuzundan rastgele entry çeker.\n",
    "\n",
    "    Args:\n",
    "        data (list): _description_\n",
    "        num_entries (int, optional): _description_. Defaults to 10.\n",
    "\n",
    "    Returns:\n",
    "        _type_: _description_\n",
    "    \"\"\"\n",
    "    # Rastgele entryleri seç\n",
    "    random_entries = random.sample(data, num_entries)\n",
    "\n",
    "    return random_entries\n",
    "\n",
    "\n",
    "delimeter = \"###\""
   ]
  },
  {
   "cell_type": "code",
   "execution_count": 4,
   "metadata": {},
   "outputs": [],
   "source": [
    "%run scraper.py \"https://eksisozluk.com/pytorch--5295899\" #eksisözlük veri çekme"
   ]
  },
  {
   "cell_type": "code",
   "execution_count": 13,
   "metadata": {},
   "outputs": [],
   "source": [
    "df = pd.read_csv(\"entries.csv\")\n",
    "entries = df.values.tolist()"
   ]
  },
  {
   "cell_type": "code",
   "execution_count": 15,
   "metadata": {},
   "outputs": [
    {
     "data": {
      "text/plain": [
       "[['tanımı \"python tabanlı bir bilimsel bilgi işlem paketi\" olan araç hakkında deep learning türkiye sayfasının postuna göre deep learning with pytorch kitabı bir süre ücretsizmiş'],\n",
       " ['#128159786serialization konusunda tf çok daha iyi. çok şükür (bkz: onnx) var.güzel bence research yapmak için ama endüstride hala benimsenmedi.'],\n",
       " ['sonunun tensorflow 1 gibi olacağını düşündüğüm facebook un python kütüphanesi. evet arkadaşlar research için kullanışlı olabilir ama iş bir değeri ürüne dönüştürmeye geldiği zaman her zaman basit ve kullanışlı olan kazanır. sene olmuş 2021 hala bir checkpoint ini yeniden load etmek için 1000 dereden su getirmenizi gerektiriyor. umarım azalarak biter kullanımı :)'],\n",
       " [\"tensorflow daha gereksiz session mantığını yeni bıraktı diye biliyorum. bir de mis gibim pytorch'a laf atıyorlar. yav büyüyünde gelin.\"],\n",
       " ['15 mart 2023 itabariyle (bkz: pytorch 2.0) çıkmıştır. cpp de performans artışı gözlemlendiği söylenilmektedir.']]"
      ]
     },
     "execution_count": 15,
     "metadata": {},
     "output_type": "execute_result"
    }
   ],
   "source": [
    "rand_entries = select_random_entries(entries) #rastgele entry seçilmesi\n",
    "rand_entries"
   ]
  },
  {
   "cell_type": "code",
   "execution_count": 16,
   "metadata": {},
   "outputs": [
    {
     "name": "stdout",
     "output_type": "stream",
     "text": [
      "- Deep learning with PyTorch kitabı bir süre ücretsizmiş ve Python tabanlı bir bilimsel bilgi işlem paketi olan araç hakkında bilgi verilmiş.\n",
      "- TensorFlow'un serialization konusunda daha iyi olduğu belirtilmiş, ancak endüstride henüz benimsenmediği ifade edilmiş.\n",
      "- Facebook'un Python kütüphanesinin TensorFlow 1 gibi sonlanacağı düşünülmüş ve kullanımının zorluklarından bahsedilmiş.\n",
      "- TensorFlow'un session mantığını bıraktığı ve PyTorch'a yapılan eleştirilere değinilmiş.\n",
      "- 15 Mart 2023 itibariyle PyTorch 2.0'ın çıktığı ve C++ performansında artış olduğu belirtilmiş.\n"
     ]
    }
   ],
   "source": [
    "prompt = f\"\"\"\n",
    "Size {delimeter} ile ayrılmış bir metin ekşisözlük entryleri verilecek.\n",
    "Görevin, entrylerin özetininin çıkarılması.\n",
    "-Yanıtını liste olarak düzenle.\n",
    "\n",
    "{delimeter}{rand_entries}{delimeter}\n",
    "\"\"\" \n",
    "\n",
    "response = get_completion(prompt)\n",
    "print(response)"
   ]
  },
  {
   "cell_type": "code",
   "execution_count": 14,
   "metadata": {},
   "outputs": [
    {
     "name": "stdout",
     "output_type": "stream",
     "text": [
      "- Pytorch'un popülerliği artmış ve birçok kişi tarafından tercih ediliyor. Ancak bazı kullanıcılar onnx ile model aktarımı konusunda sorunlar yaşayabiliyor.\n",
      "- Pytorch 2.0 ile performans artışı hedefleniyor ve cuda graph gibi özellikler ekleniyor.\n",
      "- Yeni başlayanlar pytorch kurulumunda cuda ve cudnn'i ayrı ayrı kurmaya çalışıyorlar, ancak bunların otomatik olarak kurulduğu belirtiliyor.\n",
      "- Pytorch 2.0 çıktı ve cpp performans artışı gözlemlendi.\n",
      "- Model eğitimi sırasında ağırlıkların kaydedilmesi ve indirilmesi konusunda dikkat edilmesi gerektiği vurgulanıyor. Colaboratory kullanıcıları bazı sorunlar yaşayabiliyor.\n"
     ]
    }
   ],
   "source": [
    "##son girilen 5 entry ile ilgili özet\n",
    "lastFive_entries = entries[-5:]\n",
    "prompt = f\"\"\"\n",
    "Size {delimeter} ile ayrılmış bir metin ekşisözlük entryleri verilecek.\n",
    "Görevin, entrylerin özetininin çıkarılması.\n",
    "-Yanıtını liste olarak düzenle.\n",
    "\n",
    "{delimeter}{lastFive_entries}{delimeter}\n",
    "\"\"\" \n",
    "\n",
    "response = get_completion(prompt)\n",
    "print(response)"
   ]
  },
  {
   "cell_type": "code",
   "execution_count": 23,
   "metadata": {},
   "outputs": [
    {
     "name": "stdout",
     "output_type": "stream",
     "text": [
      "1. PyTorch'un popülerliği artarken, bazı kullanıcılar onnx aktarım sorunları yaşarken, TensorFlow.js ve Node.js öneriliyor.\n",
      "2. PyTorch 2.0, static graph felsefesinden performans artışı sağlayacak şekilde geliştiriliyor. CUDA graph'ı tek komutla çıkarılabilir hale getiriliyor.\n",
      "3. Yeni başlayanlar PyTorch kurulumunda CUDA ve cuDNN'i ayrı ayrı kurmaya çalışıyor, oysa PyTorch kurulumunda otomatik olarak kuruluyor.\n",
      "4. PyTorch 2.0 ile performans artışı ve C++ desteği sunuluyor.\n",
      "5. Derin öğrenme modeli eğitiminde ağırlıkların kaydedilmesi ve indirilmesi konusunda dikkat edilmesi gerektiği vurgulanıyor. Colaboratory kullanıcıları bazı sorunlar yaşayabiliyor.\n"
     ]
    }
   ],
   "source": [
    "##Kelime sınırlaması\n",
    "rand_entries = select_random_entries(entries)\n",
    "prompt = f\"\"\"\n",
    "Size {delimeter} ile ayrılmış bir metin ekşisözlük entryleri verilecek.\n",
    "Görevin, en fazla 50 kelime ile entrylerin özetininin çıkarılması.\n",
    "-Yanıtını liste olarak düzenle.\n",
    "\n",
    "{delimeter}{lastFive_entries}{delimeter}\n",
    "\"\"\" \n",
    "\n",
    "response = get_completion(prompt)\n",
    "print(response)"
   ]
  },
  {
   "cell_type": "code",
   "execution_count": 24,
   "metadata": {},
   "outputs": [
    {
     "name": "stdout",
     "output_type": "stream",
     "text": [
      "- Negatif\n",
      "- Nötr\n",
      "- Nötr\n",
      "- Nötr\n",
      "- Negatif\n"
     ]
    }
   ],
   "source": [
    "##Duygu analizi\n",
    "rand_entries = select_random_entries(entries)\n",
    "prompt = f\"\"\"\n",
    "Aşağıda {delimeter} arasında verilen entrylerin duygu durumu nedir?\n",
    "-Yanıtını liste olarak düzenle.\n",
    "\n",
    "entryler: {delimeter}{lastFive_entries}{delimeter}\n",
    "\"\"\" \n",
    "\n",
    "response = get_completion(prompt)\n",
    "print(response)\n"
   ]
  },
  {
   "cell_type": "code",
   "execution_count": 19,
   "metadata": {},
   "outputs": [
    {
     "name": "stdout",
     "output_type": "stream",
     "text": [
      "Olumsuz: \n",
      "- \"sanki biri pytorch'a para verip promo yapmış herkes pytorch çu, yaptığınız transformers modelini bie onnx ile aktaramıyorssunuz düzgünce. tamam text generation iyi ama web'de clientside olmadıkça neyin kafası bu. tensorflow.js nodejs diyorum.bir de facebook berbat bir şirket avatar ve resim paylaşma bilgileri satma dışında ne kattı. googe interneti baştan yazdı gsheets, android ve arama algosu ile\"\n",
      "- \"yeni başlayanlar pytorch kurarken cuda ve cudnn'i bireysel olarak kurmaya çalışıyor hatta youtube'da maalesef bu şekilde gösterenler olmuş (türkçe).pytorch'u kurduğunuzda bunlar otomatik kuruluyor arkadaşlar. ekstra işleme gerek yok cuda tarafında.\"\n",
      "- \"15 mart 2023 itabariyle (bkz: pytorch 2.0) çıkmıştır. cpp de performans artışı gözlemlendiği söylenilmektedir.\"\n",
      "- \"özellikle yeni başlayanlar dikkat!! derin öğrenme modelini mis gibi eğittiniz, çalışıyor. sonra ağırlıkları kaydediyorsunuz. keyifler gıcır, saatler süren eğitim bitmiş, istediğiniz zaman aşarsınız.. derken ta-da! ağırlıklar istediğiniz gibi inmemiş. from google.colab import filesfiles.download(ağırlık yolu) yapmıyormuşuz. yamuk yumuk indi, tekrar eğitiyorum şimdi. kontrol etmeliymişim. bunun yerine şunu kullanacağız:torch.save(model.state_dict(), 'ağırlık yolu') denemeden öğrenilmiyormuş. colaboratory, kanser ettin beni. bıktım eğitimden. bari map değerim az daha yüksek olaydı.edit: modeli eğitirken mutlaka bir de isim verin. sonradan veremedim. yine yine eğitmekten yoruldum, ağladım ağlamaklar yetmedi.. mutsuzum çok hastayım güldür beni pytorch. öldüm ama hayattayım, bu nasıl bir kod. imdat.\"\n",
      "\n",
      "Olumlu:\n",
      "- \"pytorch 2.0'yle beraber tensorflow'daki static graph felsefesinden elde edilen performans artisini pythonic bir sekilde elde etmeye calisacaklar. en sevdigim yani (guzel calisacaksa, denedigim birkac network'de cok uzun suruyor su anda cikarmasi ama amac inference time hizlandirmak oldugu icin cok da dert degil) cuda graph'i tek bir komutla (bkz: torch.compile) cikarabilmesi. (bkz: torchdynamo), (bkz: torchinductor), (bkz: aotautograd).\"\n"
     ]
    }
   ],
   "source": [
    "##Duygu analizi 2\n",
    "rand_entries = select_random_entries(entries)\n",
    "prompt = f\"\"\"\n",
    "Aşağıda {delimeter} arasında verilerin entryleri olumlu ve olumsuz olarak ayır.\n",
    "-Yanıtını liste olarak düzenle.\n",
    "\n",
    "entryler: {delimeter}{lastFive_entries}{delimeter}\n",
    "\"\"\" \n",
    "\n",
    "response = get_completion(prompt)\n",
    "print(response)"
   ]
  },
  {
   "cell_type": "code",
   "execution_count": 20,
   "metadata": {},
   "outputs": [
    {
     "name": "stdout",
     "output_type": "stream",
     "text": [
      "- İlk entryde yazarın ifade ettiği duygular: hayal kırıklığı, şaşkınlık, eleştiri\n",
      "- İkinci entryde yazarın ifade ettiği duygular: umut, beğeni, memnuniyetsizlik\n",
      "- Üçüncü entryde yazarın ifade ettiği duygular: endişe, bilgilendirme, eleştiri\n",
      "- Dördüncü entryde yazarın ifade ettiği duygular: hayal kırıklığı, öfke, stres, şaşkınlık, mizah, umutsuzluk, yorgunluk, acıma, şikayet\n"
     ]
    }
   ],
   "source": [
    "##Duygu analizi 3\n",
    "rand_entries = select_random_entries(entries)\n",
    "prompt = f\"\"\"\n",
    "Aşağıda {delimeter} arasında verilerin entryleri;\n",
    "-Yazarın ifade ettiği duyguları belirle. \\\n",
    "-Cevabını virgülle ayrılmış kelimeler olarak düzenle.\n",
    "-Yanıtını liste olarak düzenle.\n",
    "\n",
    "\n",
    "entryler: {delimeter}{lastFive_entries}{delimeter}\n",
    "\"\"\" \n",
    "\n",
    "response = get_completion(prompt)\n",
    "print(response)"
   ]
  },
  {
   "cell_type": "code",
   "execution_count": 25,
   "metadata": {},
   "outputs": [
    {
     "name": "stdout",
     "output_type": "stream",
     "text": [
      "- pytorch\n",
      "- transformers\n",
      "- onnx\n",
      "- tensorflow.js\n",
      "- nodejs\n",
      "- facebook\n",
      "- google\n",
      "- cuda\n",
      "- cudnn\n",
      "- deep learning\n"
     ]
    }
   ],
   "source": [
    "rand_entries = select_random_entries(entries)\n",
    "prompt = f\"\"\"\n",
    "Aşağıda {delimeter} arasında verilerin entryler için toplamda 10 adet keyword yaz.\n",
    "-Yanıtını liste olarak düzenle.\n",
    "\n",
    "entryler: {delimeter}{lastFive_entries}{delimeter}\n",
    "\"\"\" \n",
    "\n",
    "response = get_completion(prompt)\n",
    "print(response)"
   ]
  },
  {
   "cell_type": "code",
   "execution_count": 26,
   "metadata": {},
   "outputs": [
    {
     "name": "stdout",
     "output_type": "stream",
     "text": [
      "- It seems like someone paid for a promo for PyTorch, everyone is a PyTorch fan. You can't even transfer your transformers model properly with ONNX. Okay, text generation is good but what's the point if it's not on the client side on the web. I say TensorFlow.js with Node.js. And what did Facebook contribute besides selling avatar and image sharing information. Google rewrote the internet with GSheets, Android, and search algorithms.\n",
      "- With PyTorch 2.0, they will try to achieve the performance improvement obtained from the static graph philosophy in TensorFlow in a Pythonic way. What I like the most is that if it works well (it takes too long to run in a few networks I've tried, but it's not a big deal because the goal is to speed up inference time), it can generate a CUDA graph with a single command (see: torch.compile). (see: torchdynamo), (see: torchinductor), (see: aotautograd).\n",
      "- Beginners are trying to install CUDA and cuDNN individually when installing PyTorch, and unfortunately there are those who show it this way on YouTube (in Turkish). When you install PyTorch, these are installed automatically, friends. No extra processing is needed on the CUDA side.\n",
      "- As of March 15, 2023, PyTorch 2.0 has been released. It is said that there is a performance improvement in C++.\n",
      "- Especially for beginners, pay attention!! You trained your deep learning model perfectly, it's working. Then you save the weights, everything is great, the hours of training are over, you can surpass it anytime.. and then ta-da! The weights didn't come down as you wanted. We shouldn't use files.download(weight path) from google.colab. It came down all messed up, I'm training it again now. I should have checked. Instead of that, we will use: torch.save(model.state_dict(), 'weight path'). You don't learn without trying. Colaboratory, you made me sick. I'm tired of training. I wish my MAP score was a bit higher. edit: Make sure to give a name to the model while training. I couldn't give it later. I'm tired of training again, I cried, crying wasn't enough.. I'm unhappy, I'm very sick, make me laugh PyTorch. I'm dead but alive, what kind of code is this. Help.\n"
     ]
    }
   ],
   "source": [
    "rand_entries = select_random_entries(entries)\n",
    "prompt = f\"\"\"\n",
    "Aşağıda {delimeter} arasında verilerin entryleri İngilizce diline çevir.\n",
    "-Yanıtını liste olarak düzenle.\n",
    "\n",
    "entryler: {delimeter}{lastFive_entries}{delimeter}\n",
    "\"\"\" \n",
    "\n",
    "response = get_completion(prompt)\n",
    "print(response)"
   ]
  }
 ],
 "metadata": {
  "kernelspec": {
   "display_name": "myenv",
   "language": "python",
   "name": "python3"
  },
  "language_info": {
   "codemirror_mode": {
    "name": "ipython",
    "version": 3
   },
   "file_extension": ".py",
   "mimetype": "text/x-python",
   "name": "python",
   "nbconvert_exporter": "python",
   "pygments_lexer": "ipython3",
   "version": "3.11.8"
  }
 },
 "nbformat": 4,
 "nbformat_minor": 2
}
